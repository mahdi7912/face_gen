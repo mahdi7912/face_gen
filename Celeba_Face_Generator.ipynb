{
 "cells": [
  {
   "cell_type": "code",
   "execution_count": null,
   "metadata": {
    "execution": {
     "iopub.execute_input": "2024-07-09T13:34:37.990576Z",
     "iopub.status.busy": "2024-07-09T13:34:37.990146Z",
     "iopub.status.idle": "2024-07-09T13:34:54.742137Z",
     "shell.execute_reply": "2024-07-09T13:34:54.741001Z",
     "shell.execute_reply.started": "2024-07-09T13:34:37.990546Z"
    }
   },
   "outputs": [],
   "source": [
    "import numpy as np\n",
    "import matplotlib.pyplot as plt\n",
    "from tensorflow.keras.models import Sequential, Model\n",
    "from tensorflow.keras.layers import Dense, Reshape, Flatten, Dropout, Input\n",
    "from tensorflow.keras.layers import BatchNormalization, Activation, LeakyReLU, UpSampling2D, Conv2D , Conv2DTranspose\n",
    "from tensorflow.keras.optimizers import Adam\n",
    "from tensorflow.keras.preprocessing.image import ImageDataGenerator\n",
    "import os\n"
   ]
  },
  {
   "cell_type": "code",
   "execution_count": null,
   "metadata": {
    "execution": {
     "iopub.execute_input": "2024-07-09T13:34:54.744816Z",
     "iopub.status.busy": "2024-07-09T13:34:54.744167Z",
     "iopub.status.idle": "2024-07-09T13:39:00.740988Z",
     "shell.execute_reply": "2024-07-09T13:39:00.739728Z",
     "shell.execute_reply.started": "2024-07-09T13:34:54.744781Z"
    }
   },
   "outputs": [],
   "source": [
    "def load_data(image_dir, img_size=(64, 64)):\n",
    "    datagen = ImageDataGenerator(rescale=1./255)\n",
    "    data_flow = datagen.flow_from_directory(image_dir, target_size=img_size, batch_size=128, class_mode=None)\n",
    "    return data_flow\n",
    "\n",
    "# Path to the directory containing the CelebA dataset\n",
    "image_dir = '/kaggle/input/celeba-dataset/img_align_celeba'\n",
    "data_flow = load_data(image_dir)\n"
   ]
  },
  {
   "cell_type": "code",
   "execution_count": null,
   "metadata": {
    "execution": {
     "iopub.execute_input": "2024-07-09T13:39:00.743168Z",
     "iopub.status.busy": "2024-07-09T13:39:00.742632Z",
     "iopub.status.idle": "2024-07-09T13:39:00.773041Z",
     "shell.execute_reply": "2024-07-09T13:39:00.771679Z",
     "shell.execute_reply.started": "2024-07-09T13:39:00.743123Z"
    }
   },
   "outputs": [],
   "source": [
    "def def_generator():\n",
    "    model = Sequential()\n",
    "    model.add(Dense(256 * 8 * 8, activation=\"relu\", input_dim=100))\n",
    "    model.add(Reshape((8, 8, 256)))\n",
    "    model.add(UpSampling2D())\n",
    "    model.add(Conv2D(256, kernel_size=3, padding=\"same\"))\n",
    "    model.add(BatchNormalization(momentum=0.8))\n",
    "    model.add(Activation(\"relu\"))\n",
    "    model.add(UpSampling2D())\n",
    "    model.add(Conv2D(128, kernel_size=3, padding=\"same\"))\n",
    "    model.add(BatchNormalization(momentum=0.8))\n",
    "    model.add(Activation(\"relu\"))\n",
    "    model.add(UpSampling2D())\n",
    "    model.add(Conv2D(64, kernel_size=3, padding=\"same\"))\n",
    "    model.add(BatchNormalization(momentum=0.8))\n",
    "    model.add(Activation(\"relu\"))\n",
    "    model.add(Conv2D(3, kernel_size=3, padding=\"same\"))\n",
    "    model.add(Activation(\"tanh\"))\n",
    "    return model\n",
    "\n",
    "def def_discriminator():\n",
    "    model = Sequential()\n",
    "    model.add(Conv2D(64, kernel_size=3, strides=2, input_shape=(64, 64, 3), padding=\"same\"))\n",
    "    model.add(LeakyReLU(alpha=0.2))\n",
    "    model.add(Dropout(0.25))\n",
    "    model.add(Conv2D(128, kernel_size=3, strides=2, padding=\"same\"))\n",
    "    model.add(LeakyReLU(alpha=0.2))\n",
    "    model.add(Dropout(0.25))\n",
    "    model.add(Conv2D(256, kernel_size=3, strides=2, padding=\"same\"))\n",
    "    model.add(LeakyReLU(alpha=0.2))\n",
    "    model.add(Dropout(0.25))\n",
    "    model.add(Conv2D(512, kernel_size=3, strides=2, padding=\"same\"))\n",
    "    model.add(LeakyReLU(alpha=0.2))\n",
    "    model.add(Dropout(0.25))\n",
    "    model.add(Flatten())\n",
    "    model.add(Dense(1, activation='sigmoid'))\n",
    "    return model\n",
    "\n",
    "def def_gan(generator, discriminator):\n",
    "    discriminator.trainable = False\n",
    "    gan_input = Input(shape=(100,))\n",
    "    x = generator(gan_input)\n",
    "    gan_output = discriminator(x)\n",
    "    gan = Model(gan_input, gan_output)\n",
    "    return gan\n"
   ]
  },
  {
   "cell_type": "code",
   "execution_count": null,
   "metadata": {
    "execution": {
     "iopub.execute_input": "2024-07-09T13:54:18.692858Z",
     "iopub.status.busy": "2024-07-09T13:54:18.691835Z",
     "iopub.status.idle": "2024-07-09T14:15:31.610522Z",
     "shell.execute_reply": "2024-07-09T14:15:31.609331Z",
     "shell.execute_reply.started": "2024-07-09T13:54:18.692815Z"
    }
   },
   "outputs": [],
   "source": [
    "def train_gan(generator, discriminator, gan, data_flow, epochs=10000, batch_size=128, save_interval=200):\n",
    "    half_batch = batch_size // 2\n",
    "\n",
    "    for epoch in range(epochs):\n",
    "        # Train Discriminator\n",
    "        real_images = next(data_flow)  # Correct way to get the next batch\n",
    "        real_images = real_images[:half_batch]\n",
    "        \n",
    "        noise = np.random.normal(0, 1, (half_batch, 100))\n",
    "        fake_images = generator.predict(noise)\n",
    "\n",
    "        d_loss_real = discriminator.train_on_batch(real_images, np.ones((half_batch, 1)))\n",
    "        d_loss_fake = discriminator.train_on_batch(fake_images, np.zeros((half_batch, 1)))\n",
    "        d_loss = 0.5 * np.add(d_loss_real, d_loss_fake)\n",
    "\n",
    "        # Train Generator\n",
    "        noise = np.random.normal(0, 1, (batch_size, 100))\n",
    "        valid_y = np.array([1] * batch_size)\n",
    "        g_loss = gan.train_on_batch(noise, valid_y)\n",
    "\n",
    "        # Print progress\n",
    "        print(f\"{epoch} [D loss: {d_loss[0]}, acc.: {100 * d_loss[1]}%] [G loss: {g_loss}]\")\n",
    "\n",
    "        # Save generated images at intervals\n",
    "        if epoch % save_interval == 0:\n",
    "            save_images(generator, epoch)\n",
    "\n",
    "def save_images(generator, epoch, save_dir='/kaggle/working/gan_images'):\n",
    "    os.makedirs(save_dir, exist_ok=True)\n",
    "    noise = np.random.normal(0, 1, (25, 100))\n",
    "    gen_images = generator.predict(noise)\n",
    "    gen_images = 0.5 * gen_images + 0.5  # Rescale to 0-1\n",
    "\n",
    "    fig, axs = plt.subplots(5, 5)\n",
    "    count = 0\n",
    "    for i in range(5):\n",
    "        for j in range(5):\n",
    "            axs[i, j].imshow(gen_images[count])\n",
    "            axs[i, j].axis('off')\n",
    "            count += 1\n",
    "    fig.savefig(os.path.join(save_dir, f\"epoch_{epoch}.png\"))\n",
    "    plt.close()\n",
    "\n",
    "# Build and compile the discriminator\n",
    "discriminator = def_discriminator()\n",
    "discriminator.compile(loss='binary_crossentropy', optimizer=Adam(), metrics=['accuracy'])\n",
    "\n",
    "# Build and compile the generator\n",
    "generator = def_generator()\n",
    "\n",
    "# Build and compile the GAN\n",
    "gan = def_gan(generator, discriminator)\n",
    "gan.compile(loss='binary_crossentropy', optimizer=Adam())\n",
    "\n",
    "# Train the GAN ,,,, 10000 epochs recommended\n",
    "train_gan(generator, discriminator, gan, data_flow, epochs=100, batch_size=128, save_interval=200)\n"
   ]
  },
  {
   "cell_type": "code",
   "execution_count": null,
   "metadata": {
    "execution": {
     "iopub.execute_input": "2024-07-09T14:30:53.613582Z",
     "iopub.status.busy": "2024-07-09T14:30:53.613113Z",
     "iopub.status.idle": "2024-07-09T14:30:53.943280Z",
     "shell.execute_reply": "2024-07-09T14:30:53.941195Z",
     "shell.execute_reply.started": "2024-07-09T14:30:53.613550Z"
    }
   },
   "outputs": [],
   "source": [
    "# Generate and display two fake faces\n",
    "import numpy as np\n",
    "noise = np.random.normal(0, 1, (2, 100))\n",
    "gen_images = generator.predict(noise)\n",
    "gen_images = 0.5 * gen_images + 0.5  # Rescale to 0-1\n",
    "\n",
    "for i in range(2):\n",
    "    plt.imshow(gen_images[i])\n",
    "    plt.axis('off')\n",
    "    plt.show()\n"
   ]
  },
  {
   "cell_type": "code",
   "execution_count": null,
   "metadata": {},
   "outputs": [],
   "source": []
  }
 ],
 "metadata": {
  "kaggle": {
   "accelerator": "none",
   "dataSources": [
    {
     "datasetId": 29561,
     "sourceId": 37705,
     "sourceType": "datasetVersion"
    }
   ],
   "dockerImageVersionId": 30732,
   "isGpuEnabled": false,
   "isInternetEnabled": false,
   "language": "python",
   "sourceType": "notebook"
  },
  "kernelspec": {
   "display_name": "Python 3 (ipykernel)",
   "language": "python",
   "name": "python3"
  },
  "language_info": {
   "codemirror_mode": {
    "name": "ipython",
    "version": 3
   },
   "file_extension": ".py",
   "mimetype": "text/x-python",
   "name": "python",
   "nbconvert_exporter": "python",
   "pygments_lexer": "ipython3",
   "version": "3.11.5"
  }
 },
 "nbformat": 4,
 "nbformat_minor": 4
}
